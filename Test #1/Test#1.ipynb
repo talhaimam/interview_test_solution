{
 "cells": [
  {
   "cell_type": "code",
   "execution_count": null,
   "metadata": {},
   "outputs": [],
   "source": [
    "#Assignment #1 - Create a connection to a SQL Lite DB, print the results, and create a visualization."
   ]
  },
  {
   "cell_type": "code",
   "execution_count": null,
   "metadata": {},
   "outputs": [],
   "source": [
    "# Import Dependencies\n",
    "# Pandas is required\n",
    "import pandas as pd\n",
    "import sqlite3 as db"
   ]
  },
  {
   "cell_type": "code",
   "execution_count": null,
   "metadata": {},
   "outputs": [],
   "source": [
    "# Create Engine/Connection for the census_data sql lite DB\n",
    "def Connect(dbName):\n",
    "    return db.connect(dbName)"
   ]
  },
  {
   "cell_type": "code",
   "execution_count": null,
   "metadata": {},
   "outputs": [],
   "source": [
    "# Query All Records in the the census table and put the results into a DataFrame\n",
    "conn = Connect(\"Resources/Census_Data.sqlite\")\n",
    "df = pd.read_sql_query(\"SELECT * FROM census_data\", conn)\n",
    "conn.close()"
   ]
  },
  {
   "cell_type": "code",
   "execution_count": null,
   "metadata": {},
   "outputs": [],
   "source": [
    "#Print the first 5 results in the census DataFrame\n",
    "pd.options.display.max_columns = None\n",
    "df.head() #default number of rows returned are always 5"
   ]
  },
  {
   "cell_type": "code",
   "execution_count": null,
   "metadata": {},
   "outputs": [],
   "source": [
    "# Calculate the ratio of people by state that have some level of postsecondary education vs. the total population\n",
    "df['RatioPostSecEduVSPopl'] = df['Education High School']/df['Population']"
   ]
  },
  {
   "cell_type": "code",
   "execution_count": null,
   "metadata": {},
   "outputs": [],
   "source": [
    "# Group the results by state\n",
    "dfGrouped = df.groupby(['state'])\n",
    "# dfGrouped.get_group('TX')"
   ]
  },
  {
   "cell_type": "code",
   "execution_count": null,
   "metadata": {},
   "outputs": [],
   "source": [
    "# Print the last 5 results of the current Dataframe\n",
    "# dfGrouped.tail()\n",
    "df.tail()"
   ]
  },
  {
   "cell_type": "code",
   "execution_count": null,
   "metadata": {},
   "outputs": [],
   "source": [
    "# Create a scatter plot showing Education vs. Median Home Value\n",
    "initial = df.plot.scatter(x='Median Home Value', y='Education None', s=2, c='Red', label=\"Education None\")\n",
    "df.plot.scatter(x='Median Home Value', y='Education High School', s=2, c='Blue', ax=initial, label=\"Education High School\")\n",
    "df.plot.scatter(x='Median Home Value', y='Education GED', c='Cyan', s=2, ax=initial, label=\"Education GED\")\n",
    "df.plot.scatter(x='Median Home Value', y='Education Associates', s=2, c='Pink', ax=initial, label=\"Education Associates\")\n",
    "df.plot.scatter(x='Median Home Value', y='Education Bachelors', s=2, c='Purple', ax=initial, label=\"Education Bachelors\")\n",
    "df.plot.scatter(x='Median Home Value', y='Education Masters', s=2, c='Brown', ax=initial, label=\"Education Masters\")\n",
    "df.plot.scatter(x='Median Home Value', y='Education Professional', s=2, c='Green', ax=initial, label=\"Education Professional\")\n",
    "df.plot.scatter(x='Median Home Value', y='Education Doctorate', s=2 , c='Yellow', ax=initial, label=\"Education Doctorate\")\n",
    "initial.set_ylabel('Education')\n",
    "\n",
    "# Export as a .png\n",
    "fig = initial.get_figure()\n",
    "fig.savefig('scatter_plot.png')\n",
    "\n",
    "# Show the scatterplot\n",
    "initial"
   ]
  },
  {
   "cell_type": "code",
   "execution_count": null,
   "metadata": {},
   "outputs": [],
   "source": [
    "# Bonus: Is there a correlation between Total Postsecondary Ratio and Median Home Value?\n",
    "# df['Median Home Value'].corr(df['RatioPostSecEduVSPopl']) - I couldnt find it\n"
   ]
  },
  {
   "cell_type": "code",
   "execution_count": null,
   "metadata": {},
   "outputs": [],
   "source": [
    "# Export the results to an Excel file after formatting the Median Home Value column\n",
    "# as a dollar amount ($xx.xx).\n",
    "df['Median Home Value'] = df['Median Home Value'].map(\"${:,.2f}\".format)\n",
    "df.to_excel('census_data_modified.xlsx')\n"
   ]
  },
  {
   "cell_type": "code",
   "execution_count": null,
   "metadata": {},
   "outputs": [],
   "source": []
  }
 ],
 "metadata": {
  "anaconda-cloud": {},
  "kernelspec": {
   "display_name": "Python 3",
   "language": "python",
   "name": "python3"
  },
  "language_info": {
   "codemirror_mode": {
    "name": "ipython",
    "version": 3
   },
   "file_extension": ".py",
   "mimetype": "text/x-python",
   "name": "python",
   "nbconvert_exporter": "python",
   "pygments_lexer": "ipython3",
   "version": "3.8.5"
  },
  "varInspector": {
   "cols": {
    "lenName": 16,
    "lenType": 16,
    "lenVar": 40
   },
   "kernels_config": {
    "python": {
     "delete_cmd_postfix": "",
     "delete_cmd_prefix": "del ",
     "library": "var_list.py",
     "varRefreshCmd": "print(var_dic_list())"
    },
    "r": {
     "delete_cmd_postfix": ") ",
     "delete_cmd_prefix": "rm(",
     "library": "var_list.r",
     "varRefreshCmd": "cat(var_dic_list()) "
    }
   },
   "types_to_exclude": [
    "module",
    "function",
    "builtin_function_or_method",
    "instance",
    "_Feature"
   ],
   "window_display": false
  }
 },
 "nbformat": 4,
 "nbformat_minor": 4
}
